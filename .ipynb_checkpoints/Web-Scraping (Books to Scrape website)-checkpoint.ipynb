{
 "cells": [
  {
   "cell_type": "markdown",
   "metadata": {},
   "source": [
    "# In this Jupyter notebook we use the website \"Books to Scrape\" (http://books.toscrape.com/). \n",
    "# The goal of this project is to practice with Web scraping. \n",
    "# In Section 1 we use web scraping to retrieve the title, rating, price, link and book cover for a list of 20 books. \n",
    "# In Section 2 we construct interactive tools for the users. The users can give the title of a book as input, and they will receive the rating, link, price and book cover as the output. \n"
   ]
  },
  {
   "cell_type": "code",
   "execution_count": 1,
   "metadata": {},
   "outputs": [],
   "source": [
    "import requests\n",
    "from bs4 import BeautifulSoup\n",
    "\n",
    "import numpy as np\n",
    "import pandas as pd\n",
    "\n",
    "%matplotlib inline\n",
    "import matplotlib"
   ]
  },
  {
   "cell_type": "markdown",
   "metadata": {},
   "source": [
    "# *Section 1: Web scraping without interaction with the final user*"
   ]
  },
  {
   "cell_type": "markdown",
   "metadata": {},
   "source": [
    "# Use BeautifulSoup to retrieve the HTML for all books included in the website"
   ]
  },
  {
   "cell_type": "code",
   "execution_count": 2,
   "metadata": {},
   "outputs": [],
   "source": [
    "url = \"http://books.toscrape.com/\"\n",
    "response = requests.get(url)\n",
    "# Feed that HTML to the Parser:\n",
    "soup = BeautifulSoup(response.content, \"html.parser\")"
   ]
  },
  {
   "cell_type": "markdown",
   "metadata": {},
   "source": [
    "# Display the HTML for just one book"
   ]
  },
  {
   "cell_type": "code",
   "execution_count": 3,
   "metadata": {},
   "outputs": [
    {
     "data": {
      "text/plain": [
       "<article class=\"product_pod\">\n",
       "<div class=\"image_container\">\n",
       "<a href=\"catalogue/a-light-in-the-attic_1000/index.html\"><img alt=\"A Light in the Attic\" class=\"thumbnail\" src=\"media/cache/2c/da/2cdad67c44b002e7ead0cc35693c0e8b.jpg\"/></a>\n",
       "</div>\n",
       "<p class=\"star-rating Three\">\n",
       "<i class=\"icon-star\"></i>\n",
       "<i class=\"icon-star\"></i>\n",
       "<i class=\"icon-star\"></i>\n",
       "<i class=\"icon-star\"></i>\n",
       "<i class=\"icon-star\"></i>\n",
       "</p>\n",
       "<h3><a href=\"catalogue/a-light-in-the-attic_1000/index.html\" title=\"A Light in the Attic\">A Light in the ...</a></h3>\n",
       "<div class=\"product_price\">\n",
       "<p class=\"price_color\">£51.77</p>\n",
       "<p class=\"instock availability\">\n",
       "<i class=\"icon-ok\"></i>\n",
       "    \n",
       "        In stock\n",
       "    \n",
       "</p>\n",
       "<form>\n",
       "<button class=\"btn btn-primary btn-block\" data-loading-text=\"Adding...\" type=\"submit\">Add to basket</button>\n",
       "</form>\n",
       "</div>\n",
       "</article>"
      ]
     },
     "execution_count": 3,
     "metadata": {},
     "output_type": "execute_result"
    }
   ],
   "source": [
    "books_html = soup.find_all(\"article\", class_=\"product_pod\")\n",
    "books_html[0] "
   ]
  },
  {
   "cell_type": "markdown",
   "metadata": {},
   "source": [
    "# Parsing the title of one book"
   ]
  },
  {
   "cell_type": "code",
   "execution_count": 4,
   "metadata": {},
   "outputs": [
    {
     "data": {
      "text/plain": [
       "<a href=\"catalogue/a-light-in-the-attic_1000/index.html\" title=\"A Light in the Attic\">A Light in the ...</a>"
      ]
     },
     "execution_count": 4,
     "metadata": {},
     "output_type": "execute_result"
    }
   ],
   "source": [
    "book_title = books_html[0].find(\"h3\").find(\"a\") \n",
    "book_title"
   ]
  },
  {
   "cell_type": "code",
   "execution_count": 6,
   "metadata": {},
   "outputs": [
    {
     "data": {
      "text/plain": [
       "'A Light in the Attic'"
      ]
     },
     "execution_count": 6,
     "metadata": {},
     "output_type": "execute_result"
    }
   ],
   "source": [
    "book_title = books_html[0].find(\"h3\").find(\"a\").attrs['title']\n",
    "book_title"
   ]
  },
  {
   "cell_type": "markdown",
   "metadata": {},
   "source": [
    "# Parsing the price of one book "
   ]
  },
  {
   "cell_type": "code",
   "execution_count": 9,
   "metadata": {},
   "outputs": [
    {
     "data": {
      "text/plain": [
       "51.77"
      ]
     },
     "execution_count": 9,
     "metadata": {},
     "output_type": "execute_result"
    }
   ],
   "source": [
    "book_price = books_html[0].find(\"p\", attrs={'class':'price_color'})\n",
    "book_price_str = str(book_price.string)\n",
    "\n",
    "book_price_float = float(book_price_str[1:])\n",
    "book_price_float"
   ]
  },
  {
   "cell_type": "markdown",
   "metadata": {},
   "source": [
    "# Parsing the rating of one book "
   ]
  },
  {
   "cell_type": "code",
   "execution_count": 10,
   "metadata": {},
   "outputs": [
    {
     "data": {
      "text/plain": [
       "['star-rating', 'Three']"
      ]
     },
     "execution_count": 10,
     "metadata": {},
     "output_type": "execute_result"
    }
   ],
   "source": [
    "book_stars_html = books_html[0].find(\"p\", class_=\"star-rating\")\n",
    "book_stars_html.attrs['class']"
   ]
  },
  {
   "cell_type": "code",
   "execution_count": 11,
   "metadata": {},
   "outputs": [],
   "source": [
    "def parse_rating(rating_classes):\n",
    "    if 'One' in rating_classes:\n",
    "        return 1\n",
    "    elif 'Two' in rating_classes:\n",
    "        return 2\n",
    "    elif 'Three' in rating_classes:\n",
    "        return 3\n",
    "    elif 'Four' in rating_classes:\n",
    "        return 4\n",
    "    elif 'Five' in rating_classes:\n",
    "        return 5\n",
    "    else:\n",
    "        return 0"
   ]
  },
  {
   "cell_type": "code",
   "execution_count": 12,
   "metadata": {},
   "outputs": [
    {
     "data": {
      "text/plain": [
       "3"
      ]
     },
     "execution_count": 12,
     "metadata": {},
     "output_type": "execute_result"
    }
   ],
   "source": [
    "book_rating = parse_rating(books_html[0].find(\"p\", class_=\"star-rating\").attrs['class'])\n",
    "book_rating"
   ]
  },
  {
   "cell_type": "markdown",
   "metadata": {},
   "source": [
    "# Parsing the book cover of one book "
   ]
  },
  {
   "cell_type": "code",
   "execution_count": 13,
   "metadata": {},
   "outputs": [
    {
     "data": {
      "text/plain": [
       "'http://books.toscrape.com/media/cache/2c/da/2cdad67c44b002e7ead0cc35693c0e8b.jpg'"
      ]
     },
     "execution_count": 13,
     "metadata": {},
     "output_type": "execute_result"
    }
   ],
   "source": [
    "base_url = \"http://books.toscrape.com/\"\n",
    "url_for_jpeg = base_url + books_html[0].find('img')['src']\n",
    "url_for_jpeg"
   ]
  },
  {
   "cell_type": "markdown",
   "metadata": {},
   "source": [
    "**Show the picture below:**"
   ]
  },
  {
   "cell_type": "code",
   "execution_count": 15,
   "metadata": {},
   "outputs": [
    {
     "data": {
      "text/html": [
       "<img src=\"http://books.toscrape.com/media/cache/2c/da/2cdad67c44b002e7ead0cc35693c0e8b.jpg\" width=\"200\" height=\"200\"/>"
      ],
      "text/plain": [
       "<IPython.core.display.Image object>"
      ]
     },
     "execution_count": 15,
     "metadata": {},
     "output_type": "execute_result"
    }
   ],
   "source": [
    "from IPython.display import Image\n",
    "from IPython.core.display import HTML \n",
    "Image(url= url_for_jpeg, width=200, height=200)    "
   ]
  },
  {
   "cell_type": "markdown",
   "metadata": {},
   "source": [
    "# Parsing all 20 books with a \"for loop\": "
   ]
  },
  {
   "cell_type": "code",
   "execution_count": 17,
   "metadata": {},
   "outputs": [
    {
     "data": {
      "text/plain": [
       "[('A Light in the Attic',\n",
       "  'http://books.toscrape.com/media/cache/2c/da/2cdad67c44b002e7ead0cc35693c0e8b.jpg',\n",
       "  51.77,\n",
       "  3),\n",
       " ('Tipping the Velvet',\n",
       "  'http://books.toscrape.com/media/cache/26/0c/260c6ae16bce31c8f8c95daddd9f4a1c.jpg',\n",
       "  53.74,\n",
       "  1)]"
      ]
     },
     "execution_count": 17,
     "metadata": {},
     "output_type": "execute_result"
    }
   ],
   "source": [
    "base_url = \"http://books.toscrape.com/\"\n",
    "r = requests.get(base_url)\n",
    "soup = BeautifulSoup(r.text, 'html.parser')\n",
    "\n",
    "books = soup.find_all('li',attrs={\"class\":\"col-xs-6 col-sm-4 col-md-3 col-lg-3\"})\n",
    "\n",
    "link_images=[]\n",
    "titles=[]\n",
    "prices=[]\n",
    "ratings=[]\n",
    "for book in books:\n",
    "    picture = base_url + book.find('img')['src']\n",
    "    link_images.append(picture)\n",
    "    \n",
    "    title = book.find(\"h3\").find(\"a\").attrs[\"title\"]\n",
    "    titles.append(title)\n",
    "    \n",
    "    price = float(book.find(\"p\", class_=\"price_color\").text[2:])\n",
    "    prices.append(price)\n",
    "    \n",
    "    rating = parse_rating(book.find(\"p\", class_=\"star-rating\").attrs[\"class\"])\n",
    "    ratings.append(rating)\n",
    "    \n",
    "list(zip(titles,link_images,prices,ratings))[0:2]"
   ]
  },
  {
   "cell_type": "markdown",
   "metadata": {},
   "source": [
    "**Store all info in a Pandas dataframe:**"
   ]
  },
  {
   "cell_type": "code",
   "execution_count": 18,
   "metadata": {},
   "outputs": [
    {
     "data": {
      "text/html": [
       "<div>\n",
       "<style scoped>\n",
       "    .dataframe tbody tr th:only-of-type {\n",
       "        vertical-align: middle;\n",
       "    }\n",
       "\n",
       "    .dataframe tbody tr th {\n",
       "        vertical-align: top;\n",
       "    }\n",
       "\n",
       "    .dataframe thead th {\n",
       "        text-align: right;\n",
       "    }\n",
       "</style>\n",
       "<table border=\"1\" class=\"dataframe\">\n",
       "  <thead>\n",
       "    <tr style=\"text-align: right;\">\n",
       "      <th></th>\n",
       "      <th>link_images</th>\n",
       "      <th>titles</th>\n",
       "      <th>prices</th>\n",
       "      <th>ratings</th>\n",
       "    </tr>\n",
       "  </thead>\n",
       "  <tbody>\n",
       "    <tr>\n",
       "      <th>0</th>\n",
       "      <td>http://books.toscrape.com/media/cache/2c/da/2c...</td>\n",
       "      <td>A Light in the Attic</td>\n",
       "      <td>51.77</td>\n",
       "      <td>3</td>\n",
       "    </tr>\n",
       "    <tr>\n",
       "      <th>1</th>\n",
       "      <td>http://books.toscrape.com/media/cache/26/0c/26...</td>\n",
       "      <td>Tipping the Velvet</td>\n",
       "      <td>53.74</td>\n",
       "      <td>1</td>\n",
       "    </tr>\n",
       "    <tr>\n",
       "      <th>2</th>\n",
       "      <td>http://books.toscrape.com/media/cache/3e/ef/3e...</td>\n",
       "      <td>Soumission</td>\n",
       "      <td>50.1</td>\n",
       "      <td>1</td>\n",
       "    </tr>\n",
       "    <tr>\n",
       "      <th>3</th>\n",
       "      <td>http://books.toscrape.com/media/cache/32/51/32...</td>\n",
       "      <td>Sharp Objects</td>\n",
       "      <td>47.82</td>\n",
       "      <td>4</td>\n",
       "    </tr>\n",
       "    <tr>\n",
       "      <th>4</th>\n",
       "      <td>http://books.toscrape.com/media/cache/be/a5/be...</td>\n",
       "      <td>Sapiens: A Brief History of Humankind</td>\n",
       "      <td>54.23</td>\n",
       "      <td>5</td>\n",
       "    </tr>\n",
       "    <tr>\n",
       "      <th>5</th>\n",
       "      <td>http://books.toscrape.com/media/cache/68/33/68...</td>\n",
       "      <td>The Requiem Red</td>\n",
       "      <td>22.65</td>\n",
       "      <td>1</td>\n",
       "    </tr>\n",
       "    <tr>\n",
       "      <th>6</th>\n",
       "      <td>http://books.toscrape.com/media/cache/92/27/92...</td>\n",
       "      <td>The Dirty Little Secrets of Getting Your Dream...</td>\n",
       "      <td>33.34</td>\n",
       "      <td>4</td>\n",
       "    </tr>\n",
       "    <tr>\n",
       "      <th>7</th>\n",
       "      <td>http://books.toscrape.com/media/cache/3d/54/3d...</td>\n",
       "      <td>The Coming Woman: A Novel Based on the Life of...</td>\n",
       "      <td>17.93</td>\n",
       "      <td>3</td>\n",
       "    </tr>\n",
       "    <tr>\n",
       "      <th>8</th>\n",
       "      <td>http://books.toscrape.com/media/cache/66/88/66...</td>\n",
       "      <td>The Boys in the Boat: Nine Americans and Their...</td>\n",
       "      <td>22.6</td>\n",
       "      <td>4</td>\n",
       "    </tr>\n",
       "    <tr>\n",
       "      <th>9</th>\n",
       "      <td>http://books.toscrape.com/media/cache/58/46/58...</td>\n",
       "      <td>The Black Maria</td>\n",
       "      <td>52.15</td>\n",
       "      <td>1</td>\n",
       "    </tr>\n",
       "    <tr>\n",
       "      <th>10</th>\n",
       "      <td>http://books.toscrape.com/media/cache/be/f4/be...</td>\n",
       "      <td>Starving Hearts (Triangular Trade Trilogy, #1)</td>\n",
       "      <td>13.99</td>\n",
       "      <td>2</td>\n",
       "    </tr>\n",
       "    <tr>\n",
       "      <th>11</th>\n",
       "      <td>http://books.toscrape.com/media/cache/10/48/10...</td>\n",
       "      <td>Shakespeare's Sonnets</td>\n",
       "      <td>20.66</td>\n",
       "      <td>4</td>\n",
       "    </tr>\n",
       "    <tr>\n",
       "      <th>12</th>\n",
       "      <td>http://books.toscrape.com/media/cache/5b/88/5b...</td>\n",
       "      <td>Set Me Free</td>\n",
       "      <td>17.46</td>\n",
       "      <td>5</td>\n",
       "    </tr>\n",
       "    <tr>\n",
       "      <th>13</th>\n",
       "      <td>http://books.toscrape.com/media/cache/94/b1/94...</td>\n",
       "      <td>Scott Pilgrim's Precious Little Life (Scott Pi...</td>\n",
       "      <td>52.29</td>\n",
       "      <td>5</td>\n",
       "    </tr>\n",
       "    <tr>\n",
       "      <th>14</th>\n",
       "      <td>http://books.toscrape.com/media/cache/81/c4/81...</td>\n",
       "      <td>Rip it Up and Start Again</td>\n",
       "      <td>35.02</td>\n",
       "      <td>5</td>\n",
       "    </tr>\n",
       "    <tr>\n",
       "      <th>15</th>\n",
       "      <td>http://books.toscrape.com/media/cache/54/60/54...</td>\n",
       "      <td>Our Band Could Be Your Life: Scenes from the A...</td>\n",
       "      <td>57.25</td>\n",
       "      <td>3</td>\n",
       "    </tr>\n",
       "    <tr>\n",
       "      <th>16</th>\n",
       "      <td>http://books.toscrape.com/media/cache/55/33/55...</td>\n",
       "      <td>Olio</td>\n",
       "      <td>23.88</td>\n",
       "      <td>1</td>\n",
       "    </tr>\n",
       "    <tr>\n",
       "      <th>17</th>\n",
       "      <td>http://books.toscrape.com/media/cache/09/a3/09...</td>\n",
       "      <td>Mesaerion: The Best Science Fiction Stories 18...</td>\n",
       "      <td>37.59</td>\n",
       "      <td>1</td>\n",
       "    </tr>\n",
       "    <tr>\n",
       "      <th>18</th>\n",
       "      <td>http://books.toscrape.com/media/cache/0b/bc/0b...</td>\n",
       "      <td>Libertarianism for Beginners</td>\n",
       "      <td>51.33</td>\n",
       "      <td>2</td>\n",
       "    </tr>\n",
       "    <tr>\n",
       "      <th>19</th>\n",
       "      <td>http://books.toscrape.com/media/cache/27/a5/27...</td>\n",
       "      <td>It's Only the Himalayas</td>\n",
       "      <td>45.17</td>\n",
       "      <td>2</td>\n",
       "    </tr>\n",
       "  </tbody>\n",
       "</table>\n",
       "</div>"
      ],
      "text/plain": [
       "                                          link_images  \\\n",
       "0   http://books.toscrape.com/media/cache/2c/da/2c...   \n",
       "1   http://books.toscrape.com/media/cache/26/0c/26...   \n",
       "2   http://books.toscrape.com/media/cache/3e/ef/3e...   \n",
       "3   http://books.toscrape.com/media/cache/32/51/32...   \n",
       "4   http://books.toscrape.com/media/cache/be/a5/be...   \n",
       "5   http://books.toscrape.com/media/cache/68/33/68...   \n",
       "6   http://books.toscrape.com/media/cache/92/27/92...   \n",
       "7   http://books.toscrape.com/media/cache/3d/54/3d...   \n",
       "8   http://books.toscrape.com/media/cache/66/88/66...   \n",
       "9   http://books.toscrape.com/media/cache/58/46/58...   \n",
       "10  http://books.toscrape.com/media/cache/be/f4/be...   \n",
       "11  http://books.toscrape.com/media/cache/10/48/10...   \n",
       "12  http://books.toscrape.com/media/cache/5b/88/5b...   \n",
       "13  http://books.toscrape.com/media/cache/94/b1/94...   \n",
       "14  http://books.toscrape.com/media/cache/81/c4/81...   \n",
       "15  http://books.toscrape.com/media/cache/54/60/54...   \n",
       "16  http://books.toscrape.com/media/cache/55/33/55...   \n",
       "17  http://books.toscrape.com/media/cache/09/a3/09...   \n",
       "18  http://books.toscrape.com/media/cache/0b/bc/0b...   \n",
       "19  http://books.toscrape.com/media/cache/27/a5/27...   \n",
       "\n",
       "                                               titles prices ratings  \n",
       "0                                A Light in the Attic  51.77       3  \n",
       "1                                  Tipping the Velvet  53.74       1  \n",
       "2                                          Soumission   50.1       1  \n",
       "3                                       Sharp Objects  47.82       4  \n",
       "4               Sapiens: A Brief History of Humankind  54.23       5  \n",
       "5                                     The Requiem Red  22.65       1  \n",
       "6   The Dirty Little Secrets of Getting Your Dream...  33.34       4  \n",
       "7   The Coming Woman: A Novel Based on the Life of...  17.93       3  \n",
       "8   The Boys in the Boat: Nine Americans and Their...   22.6       4  \n",
       "9                                     The Black Maria  52.15       1  \n",
       "10     Starving Hearts (Triangular Trade Trilogy, #1)  13.99       2  \n",
       "11                              Shakespeare's Sonnets  20.66       4  \n",
       "12                                        Set Me Free  17.46       5  \n",
       "13  Scott Pilgrim's Precious Little Life (Scott Pi...  52.29       5  \n",
       "14                          Rip it Up and Start Again  35.02       5  \n",
       "15  Our Band Could Be Your Life: Scenes from the A...  57.25       3  \n",
       "16                                               Olio  23.88       1  \n",
       "17  Mesaerion: The Best Science Fiction Stories 18...  37.59       1  \n",
       "18                       Libertarianism for Beginners  51.33       2  \n",
       "19                            It's Only the Himalayas  45.17       2  "
      ]
     },
     "execution_count": 18,
     "metadata": {},
     "output_type": "execute_result"
    }
   ],
   "source": [
    "import pandas as pd \n",
    "\n",
    "list_of_list = [link_images,titles,prices,ratings]\n",
    "df = pd.DataFrame(list_of_list)\n",
    "df = df.T\n",
    "df.columns = ['link_images', 'titles', 'prices', 'ratings']\n",
    "df"
   ]
  },
  {
   "cell_type": "markdown",
   "metadata": {},
   "source": [
    "# *Section 2: Interaction with the users and interactive tools*"
   ]
  },
  {
   "cell_type": "markdown",
   "metadata": {},
   "source": [
    "# Choice of book, user input  and output (The user input is the title of the book, and the output is rating, price, link, book cover)"
   ]
  },
  {
   "cell_type": "code",
   "execution_count": 19,
   "metadata": {},
   "outputs": [
    {
     "name": "stdout",
     "output_type": "stream",
     "text": [
      "The available book titles are the following ones:\n",
      "\n",
      "A Light in the Attic\n",
      "Tipping the Velvet\n",
      "Soumission\n",
      "Sharp Objects\n",
      "Sapiens: A Brief History of Humankind\n",
      "The Requiem Red\n",
      "The Dirty Little Secrets of Getting Your Dream Job\n",
      "The Coming Woman: A Novel Based on the Life of the Infamous Feminist, Victoria Woodhull\n",
      "The Boys in the Boat: Nine Americans and Their Epic Quest for Gold at the 1936 Berlin Olympics\n",
      "The Black Maria\n",
      "Starving Hearts (Triangular Trade Trilogy, #1)\n",
      "Shakespeare's Sonnets\n",
      "Set Me Free\n",
      "Scott Pilgrim's Precious Little Life (Scott Pilgrim #1)\n",
      "Rip it Up and Start Again\n",
      "Our Band Could Be Your Life: Scenes from the American Indie Underground, 1981-1991\n",
      "Olio\n",
      "Mesaerion: The Best Science Fiction Stories 1800-1849\n",
      "Libertarianism for Beginners\n",
      "It's Only the Himalayas\n",
      "\n",
      "Please copy and paste one title and paste it here:  Sharp Objects\n",
      "\n",
      "The book that you have chosen has the following title: Sharp Objects\n",
      "\n",
      "The book that you have chosen has the following price: £47.82 \n",
      "\n",
      "The book that you have chosen has the following rating: 4 \n",
      "\n",
      "The cover book for that the chosen book has the following link: http://books.toscrape.com/media/cache/32/51/3251cf3a3412f53f339e42cac2134093.jpg \n",
      "\n",
      "Here is the book cover: \n"
     ]
    },
    {
     "data": {
      "text/html": [
       "<img src=\"http://books.toscrape.com/media/cache/32/51/3251cf3a3412f53f339e42cac2134093.jpg\" width=\"200\" height=\"200\"/>"
      ],
      "text/plain": [
       "<IPython.core.display.Image object>"
      ]
     },
     "execution_count": 19,
     "metadata": {},
     "output_type": "execute_result"
    }
   ],
   "source": [
    "print('The available book titles are the following ones:')\n",
    "print('')\n",
    "\n",
    "for i in titles:\n",
    "    print(i)\n",
    "\n",
    "print('')\n",
    "a = input('Please copy and paste one title and paste it here:  ')\n",
    "\n",
    "print('')\n",
    "print(f'The book that you have chosen has the following title: {a}')\n",
    "\n",
    "# find the index for the chosen product: \n",
    "index = df.index[df['titles'] == a]\n",
    "index\n",
    "print('')\n",
    "price_a = df['prices'].iloc[index[0]]\n",
    "print(f'The book that you have chosen has the following price: £{price_a} ')\n",
    "\n",
    "print('')\n",
    "rating_a = df['ratings'].iloc[index[0]]\n",
    "print(f'The book that you have chosen has the following rating: {rating_a} ')\n",
    "\n",
    "print('')\n",
    "link_a = df['link_images'].iloc[index[0]]\n",
    "print(f'The cover book for that the chosen book has the following link: {link_a} ')\n",
    "\n",
    "print('')\n",
    "print(f'Here is the book cover: ')\n",
    "\n",
    "from IPython.display import Image\n",
    "from IPython.core.display import HTML \n",
    "Image(url= link_a, width=200, height=200)\n"
   ]
  },
  {
   "cell_type": "markdown",
   "metadata": {},
   "source": [
    "# Interactive tool for the data (The user scrolls with an interactive tool and the output is rating, price, link, book cover)"
   ]
  },
  {
   "cell_type": "code",
   "execution_count": 20,
   "metadata": {},
   "outputs": [
    {
     "data": {
      "application/vnd.jupyter.widget-view+json": {
       "model_id": "9c598f44d0034ca6a2ff1b457d8590c3",
       "version_major": 2,
       "version_minor": 0
      },
      "text/plain": [
       "interactive(children=(IntSlider(value=10, description='x', max=19), Output()), _dom_classes=('widget-interact'…"
      ]
     },
     "metadata": {},
     "output_type": "display_data"
    },
    {
     "data": {
      "text/plain": [
       "<function __main__.my_function(x)>"
      ]
     },
     "execution_count": 20,
     "metadata": {},
     "output_type": "execute_result"
    }
   ],
   "source": [
    "from ipywidgets import interact\n",
    "import ipywidgets as widgets\n",
    "\n",
    "def my_function(x):\n",
    "    return df.iloc[x]\n",
    "\n",
    "# create a slider\n",
    "interact(my_function, x=widgets.IntSlider(min=0,max=19,step=1,value=10))"
   ]
  },
  {
   "cell_type": "code",
   "execution_count": 21,
   "metadata": {},
   "outputs": [
    {
     "data": {
      "application/vnd.jupyter.widget-view+json": {
       "model_id": "c7c56854c6594984b7fec6ce3fff88e7",
       "version_major": 2,
       "version_minor": 0
      },
      "text/plain": [
       "interactive(children=(IntSlider(value=10, description='x', max=19), Output()), _dom_classes=('widget-interact'…"
      ]
     },
     "metadata": {},
     "output_type": "display_data"
    },
    {
     "data": {
      "text/plain": [
       "<function __main__.cover_book(x)>"
      ]
     },
     "execution_count": 21,
     "metadata": {},
     "output_type": "execute_result"
    }
   ],
   "source": [
    "from ipywidgets import interact\n",
    "import ipywidgets as widgets\n",
    "\n",
    "def cover_book(x):\n",
    "    return Image(url= df['link_images'].loc[x], width=200, height=200)\n",
    "\n",
    "# create a slider\n",
    "interact(cover_book, x=widgets.IntSlider(min=0,max=19,step=1,value=10))"
   ]
  },
  {
   "cell_type": "code",
   "execution_count": 22,
   "metadata": {},
   "outputs": [
    {
     "data": {
      "application/vnd.jupyter.widget-view+json": {
       "model_id": "f6e31b20bc724e01a63c4373500b6b2c",
       "version_major": 2,
       "version_minor": 0
      },
      "text/plain": [
       "interactive(children=(IntSlider(value=10, description='x', max=19), Output()), _dom_classes=('widget-interact'…"
      ]
     },
     "metadata": {},
     "output_type": "display_data"
    },
    {
     "data": {
      "text/plain": [
       "<function __main__.image(x)>"
      ]
     },
     "execution_count": 22,
     "metadata": {},
     "output_type": "execute_result"
    }
   ],
   "source": [
    "from ipywidgets import interact\n",
    "def image(x):\n",
    "    from IPython.display import Image\n",
    "    from IPython.core.display import HTML \n",
    "    image = Image(url= df['link_images'].loc[x], width=200, height=200)\n",
    "    print(my_function(x))\n",
    "    return image\n",
    "\n",
    "# create a slider\n",
    "interact(image, x=widgets.IntSlider(min=0,max=19,step=1,value=10))"
   ]
  }
 ],
 "metadata": {
  "kernelspec": {
   "display_name": "Python 3",
   "language": "python",
   "name": "python3"
  },
  "language_info": {
   "codemirror_mode": {
    "name": "ipython",
    "version": 3
   },
   "file_extension": ".py",
   "mimetype": "text/x-python",
   "name": "python",
   "nbconvert_exporter": "python",
   "pygments_lexer": "ipython3",
   "version": "3.7.7"
  }
 },
 "nbformat": 4,
 "nbformat_minor": 4
}
